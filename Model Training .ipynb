{
 "cells": [
  {
   "cell_type": "code",
   "execution_count": 1,
   "id": "045954c6",
   "metadata": {},
   "outputs": [],
   "source": [
    "import sys\n",
    "from PIL import Image\n",
    "sys.modules['Image'] = Image "
   ]
  },
  {
   "cell_type": "code",
   "execution_count": 2,
   "id": "1d9831b1",
   "metadata": {},
   "outputs": [
    {
     "name": "stdout",
     "output_type": "stream",
     "text": [
      "C:\\Python39\\lib\\site-packages\\PIL\\Image.py\n"
     ]
    }
   ],
   "source": [
    "from PIL import Image\n",
    "print(Image.__file__)\n"
   ]
  },
  {
   "cell_type": "code",
   "execution_count": 3,
   "id": "52de3d54",
   "metadata": {},
   "outputs": [
    {
     "name": "stdout",
     "output_type": "stream",
     "text": [
      "C:\\Python39\\lib\\site-packages\\PIL\\Image.py\n"
     ]
    }
   ],
   "source": [
    "import Image\n",
    "print(Image.__file__)\n"
   ]
  },
  {
   "cell_type": "code",
   "execution_count": 4,
   "id": "4a0e8f8e",
   "metadata": {},
   "outputs": [
    {
     "name": "stdout",
     "output_type": "stream",
     "text": [
      "WARNING:tensorflow:From C:\\Python39\\lib\\site-packages\\keras\\src\\losses.py:2976: The name tf.losses.sparse_softmax_cross_entropy is deprecated. Please use tf.compat.v1.losses.sparse_softmax_cross_entropy instead.\n",
      "\n"
     ]
    }
   ],
   "source": [
    "import tensorflow as tf\n",
    "from tensorflow.keras.applications import InceptionV3\n",
    "from tensorflow.keras.models import Model\n",
    "from tensorflow.keras.layers import Dropout,Input,Flatten,Dense,MaxPooling2D\n",
    "from tensorflow.keras.optimizers import Adam\n",
    "from tensorflow.keras.preprocessing.image import ImageDataGenerator "
   ]
  },
  {
   "cell_type": "code",
   "execution_count": 5,
   "id": "056a28db",
   "metadata": {},
   "outputs": [],
   "source": [
    "batch_size=8"
   ]
  },
  {
   "cell_type": "code",
   "execution_count": 6,
   "id": "43ab081d",
   "metadata": {},
   "outputs": [
    {
     "name": "stdout",
     "output_type": "stream",
     "text": [
      "Found 61130 images belonging to 2 classes.\n",
      "Found 1696 images belonging to 2 classes.\n"
     ]
    }
   ],
   "source": [
    "train_datagen= ImageDataGenerator(rescale=1./255, rotation_range=0.2,shear_range=0.2,\n",
    "    zoom_range=0.2,width_shift_range=0.2,\n",
    "    height_shift_range=0.2, validation_split=0.2)\n",
    "\n",
    "train_data= train_datagen.flow_from_directory(r'C:\\Python39\\Scripts\\Drosiness detection model with MRL dataset\\prepared_data\\train',\n",
    "                                              target_size=(80,80),\n",
    "                                              batch_size=batch_size,\n",
    "                                              class_mode='categorical',\n",
    "                                              subset='training' )\n",
    "validation_data= train_datagen.flow_from_directory(r'C:\\Python39\\Scripts\\Drosiness detection model with MRL dataset\\prepared_data\\test',\n",
    "                                                   target_size=(80,80),\n",
    "                                                   batch_size=batch_size,\n",
    "                                                   class_mode='categorical', \n",
    "                                                   subset='validation')\n"
   ]
  },
  {
   "cell_type": "code",
   "execution_count": 7,
   "id": "b9961417",
   "metadata": {},
   "outputs": [
    {
     "name": "stdout",
     "output_type": "stream",
     "text": [
      "Found 8487 images belonging to 2 classes.\n"
     ]
    }
   ],
   "source": [
    "test_datagen = ImageDataGenerator(rescale = 1./255)\n",
    "\n",
    "test_data = test_datagen.flow_from_directory(\n",
    "    r'C:\\Python39\\Scripts\\Drosiness detection model with MRL dataset\\prepared_data\\test',\n",
    "    target_size=(80,80), \n",
    "    batch_size = 8, \n",
    "    class_mode='categorical')"
   ]
  },
  {
   "cell_type": "code",
   "execution_count": 8,
   "id": "b230d2d7",
   "metadata": {},
   "outputs": [
    {
     "name": "stdout",
     "output_type": "stream",
     "text": [
      "WARNING:tensorflow:From C:\\Python39\\lib\\site-packages\\keras\\src\\backend.py:1398: The name tf.executing_eagerly_outside_functions is deprecated. Please use tf.compat.v1.executing_eagerly_outside_functions instead.\n",
      "\n",
      "WARNING:tensorflow:From C:\\Python39\\lib\\site-packages\\keras\\src\\layers\\normalization\\batch_normalization.py:979: The name tf.nn.fused_batch_norm is deprecated. Please use tf.compat.v1.nn.fused_batch_norm instead.\n",
      "\n"
     ]
    }
   ],
   "source": [
    "bmodel = InceptionV3(include_top = False, weights = 'imagenet', \n",
    "                     input_tensor = Input(shape = (80,80,3)))"
   ]
  },
  {
   "cell_type": "code",
   "execution_count": 9,
   "id": "58e98422",
   "metadata": {},
   "outputs": [],
   "source": [
    "hmodel = bmodel.output\n",
    "hmodel = Flatten()(hmodel)\n",
    "hmodel = Dense(64, activation='relu')(hmodel)\n",
    "hmodel = Dropout(0.5)(hmodel)\n",
    "hmodel = Dense(2,activation= 'softmax')(hmodel)\n",
    "model = Model(inputs=bmodel.input, outputs= hmodel)\n",
    "for layer in bmodel.layers:\n",
    "    layer.trainable = False"
   ]
  },
  {
   "cell_type": "code",
   "execution_count": 10,
   "id": "afb08a7f",
   "metadata": {},
   "outputs": [],
   "source": [
    "# model.summary()"
   ]
  },
  {
   "cell_type": "code",
   "execution_count": 11,
   "id": "3346fb32",
   "metadata": {},
   "outputs": [],
   "source": [
    "from tensorflow.keras.callbacks import ModelCheckpoint,EarlyStopping, ReduceLROnPlateau\n"
   ]
  },
  {
   "cell_type": "code",
   "execution_count": 12,
   "id": "38e5ea07",
   "metadata": {},
   "outputs": [],
   "source": [
    "checkpoint = ModelCheckpoint(r'C:\\Python39\\Scripts\\Drosiness detection model with MRL dataset\\Models\\Model.h5',\n",
    "                            monitor='val_loss',save_best_only=True,verbose=3)\n",
    "\n",
    "earlystop = EarlyStopping(monitor = 'val_loss', patience=7, verbose= 3, restore_best_weights=True)\n",
    "\n",
    "learning_rate = ReduceLROnPlateau(monitor= 'val_loss', patience=3, verbose= 3, )\n",
    "\n",
    "callbacks=[checkpoint,earlystop,learning_rate]"
   ]
  },
  {
   "cell_type": "code",
   "execution_count": 23,
   "id": "3bd3afd1",
   "metadata": {},
   "outputs": [
    {
     "name": "stderr",
     "output_type": "stream",
     "text": [
      "C:\\Users\\LENOVO\\AppData\\Local\\Temp\\ipykernel_18532\\2572150247.py:3: UserWarning: `Model.fit_generator` is deprecated and will be removed in a future version. Please use `Model.fit`, which supports generators.\n",
      "  model.fit_generator(train_data,steps_per_epoch=train_data.samples//batch_size,\n"
     ]
    },
    {
     "name": "stdout",
     "output_type": "stream",
     "text": [
      "Epoch 1/5\n",
      "7641/7641 [==============================] - ETA: 0s - loss: 0.1570 - accuracy: 0.9410\n",
      "Epoch 1: val_loss did not improve from 0.20098\n",
      "7641/7641 [==============================] - 648s 84ms/step - loss: 0.1570 - accuracy: 0.9410 - val_loss: 0.2302 - val_accuracy: 0.8992 - lr: 0.0010\n",
      "Epoch 2/5\n",
      "7641/7641 [==============================] - ETA: 0s - loss: 0.1550 - accuracy: 0.9403\n",
      "Epoch 2: val_loss did not improve from 0.20098\n",
      "7641/7641 [==============================] - 762s 100ms/step - loss: 0.1550 - accuracy: 0.9403 - val_loss: 0.2658 - val_accuracy: 0.8956 - lr: 0.0010\n",
      "Epoch 3/5\n",
      "7641/7641 [==============================] - ETA: 0s - loss: 0.1543 - accuracy: 0.9404\n",
      "Epoch 3: val_loss did not improve from 0.20098\n",
      "7641/7641 [==============================] - 645s 84ms/step - loss: 0.1543 - accuracy: 0.9404 - val_loss: 0.2437 - val_accuracy: 0.8968 - lr: 0.0010\n",
      "Epoch 4/5\n",
      "7641/7641 [==============================] - ETA: 0s - loss: 0.1552 - accuracy: 0.9423\n",
      "Epoch 4: val_loss did not improve from 0.20098\n",
      "\n",
      "Epoch 4: ReduceLROnPlateau reducing learning rate to 0.00010000000474974513.\n",
      "7641/7641 [==============================] - 559s 73ms/step - loss: 0.1552 - accuracy: 0.9423 - val_loss: 0.2413 - val_accuracy: 0.8974 - lr: 0.0010\n",
      "Epoch 5/5\n",
      "7641/7641 [==============================] - ETA: 0s - loss: 0.1415 - accuracy: 0.9468\n",
      "Epoch 5: val_loss did not improve from 0.20098\n",
      "7641/7641 [==============================] - 542s 71ms/step - loss: 0.1415 - accuracy: 0.9468 - val_loss: 0.2143 - val_accuracy: 0.9110 - lr: 1.0000e-04\n"
     ]
    },
    {
     "data": {
      "text/plain": [
       "<keras.src.callbacks.History at 0x22274d52910>"
      ]
     },
     "execution_count": 23,
     "metadata": {},
     "output_type": "execute_result"
    }
   ],
   "source": [
    "model.compile(optimizer='Adam', loss='categorical_crossentropy',metrics=['accuracy'])\n",
    "\n",
    "model.fit_generator(train_data,steps_per_epoch=train_data.samples//batch_size,\n",
    "                   validation_data=validation_data,\n",
    "                   validation_steps=validation_data.samples//batch_size,\n",
    "                   callbacks=callbacks,\n",
    "                    epochs=5)"
   ]
  },
  {
   "cell_type": "code",
   "execution_count": 24,
   "id": "e0de3045",
   "metadata": {},
   "outputs": [
    {
     "name": "stdout",
     "output_type": "stream",
     "text": [
      "7642/7642 [==============================] - 426s 55ms/step - loss: 0.1237 - accuracy: 0.9525\n",
      "Training Accuracy: 95.25%\n",
      "Training Loss: 0.1237\n"
     ]
    }
   ],
   "source": [
    "loss_tr, acc_tr = model.evaluate(train_data, verbose=1)\n",
    "print(\"Training Accuracy: {:.2f}%\".format(acc_tr * 100))\n",
    "print(\"Training Loss: {:.4f}\".format(loss_tr))\n"
   ]
  },
  {
   "cell_type": "code",
   "execution_count": 25,
   "id": "4d5387aa",
   "metadata": {},
   "outputs": [
    {
     "name": "stderr",
     "output_type": "stream",
     "text": [
      "C:\\Users\\LENOVO\\AppData\\Local\\Temp\\ipykernel_18532\\61866403.py:1: UserWarning: `Model.evaluate_generator` is deprecated and will be removed in a future version. Please use `Model.evaluate`, which supports generators.\n",
      "  loss_vr, acc_vr = model.evaluate_generator(validation_data)\n"
     ]
    },
    {
     "name": "stdout",
     "output_type": "stream",
     "text": [
      "Validation Accuracy: 90.57%\n",
      "Validation Loss: 0.2187\n"
     ]
    }
   ],
   "source": [
    "loss_vr, acc_vr = model.evaluate_generator(validation_data)\n",
    "print(\"Validation Accuracy: {:.2f}%\".format(acc_vr * 100))\n",
    "print(\"Validation Loss: {:.4f}\".format(loss_vr))\n"
   ]
  },
  {
   "cell_type": "code",
   "execution_count": 26,
   "id": "32ab096a",
   "metadata": {},
   "outputs": [
    {
     "name": "stderr",
     "output_type": "stream",
     "text": [
      "C:\\Users\\LENOVO\\AppData\\Local\\Temp\\ipykernel_18532\\1878360815.py:1: UserWarning: `Model.evaluate_generator` is deprecated and will be removed in a future version. Please use `Model.evaluate`, which supports generators.\n",
      "  loss_test ,acc_test = model.evaluate_generator(test_data)\n"
     ]
    },
    {
     "name": "stdout",
     "output_type": "stream",
     "text": [
      "Test Accuracy: 90.57%\n",
      "Test Loss: 0.3332\n"
     ]
    }
   ],
   "source": [
    "loss_test ,acc_test = model.evaluate_generator(test_data)\n",
    "print(\"Test Accuracy: {:.2f}%\".format(acc_test * 100))\n",
    "print(\"Test Loss: {:.4f}\".format(loss_test))"
   ]
  },
  {
   "cell_type": "code",
   "execution_count": null,
   "id": "2d131adb",
   "metadata": {},
   "outputs": [],
   "source": []
  }
 ],
 "metadata": {
  "kernelspec": {
   "display_name": "Python 3 (ipykernel)",
   "language": "python",
   "name": "python3"
  },
  "language_info": {
   "codemirror_mode": {
    "name": "ipython",
    "version": 3
   },
   "file_extension": ".py",
   "mimetype": "text/x-python",
   "name": "python",
   "nbconvert_exporter": "python",
   "pygments_lexer": "ipython3",
   "version": "3.9.13"
  }
 },
 "nbformat": 4,
 "nbformat_minor": 5
}
